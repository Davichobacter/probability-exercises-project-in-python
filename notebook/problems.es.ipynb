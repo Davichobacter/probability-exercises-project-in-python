{
  "cells": [
    {
      "cell_type": "markdown",
      "id": "a41f3622",
      "metadata": {
        "id": "a41f3622"
      },
      "source": [
        "# Ejercicios de probabilidad"
      ]
    },
    {
      "cell_type": "markdown",
      "id": "a6bdbd89",
      "metadata": {
        "id": "a6bdbd89"
      },
      "source": [
        "## Ejercicio 1\n",
        "\n",
        "Dos dados se lanzan una vez y se observa el total obtenido. Usa una simulación para encontrar la probabilidad estimada de que la puntuación sea mayor a 7 o un número par. Una simulación es una repetición del mismo experimento multiples veces para observar su comportamiento:\n",
        "\n",
        "- Ejecuta el experimento 1000 veces (lanza 2 dados 1000 veces, y suma el número de ambos dados).\n",
        "- Lleva ua cuenta de los números y las veces que la suma fue mayor a 7 o un número par.\n",
        "- Divide el número del paso 2 entre el número de iteraciones(1000)."
      ]
    },
    {
      "cell_type": "code",
      "execution_count": 1,
      "id": "8939d892",
      "metadata": {
        "id": "8939d892"
      },
      "outputs": [],
      "source": [
        "# TODO\n",
        "import numpy as np"
      ]
    },
    {
      "cell_type": "code",
      "source": [
        "def lanzar_dado():\n",
        "  lados = np.array([1, 2, 3, 4, 5, 6])\n",
        "  dado1 = np.random.choice(lados, 1)\n",
        "  dado2 = np.random.choice(lados, 1)\n",
        "\n",
        "  suma = dado1 + dado2\n",
        "\n",
        "  return int(suma)\n"
      ],
      "metadata": {
        "id": "wNB__1R_VO5e"
      },
      "id": "wNB__1R_VO5e",
      "execution_count": 64,
      "outputs": []
    },
    {
      "cell_type": "code",
      "source": [
        "trials = 1000\n",
        "resultados = []\n",
        "\n",
        "for _ in range(trials):\n",
        "\n",
        "  resultado = lanzar_dado()\n",
        "\n",
        "  if (resultado > 7) or (resultado % 2 == 0):\n",
        "    resultados.append(resultado)"
      ],
      "metadata": {
        "id": "eY_G4n_SWNPn",
        "outputId": "0dfabc25-8dfb-4667-8525-3b8d0a58bf3f",
        "colab": {
          "base_uri": "https://localhost:8080/"
        }
      },
      "id": "eY_G4n_SWNPn",
      "execution_count": 77,
      "outputs": [
        {
          "output_type": "stream",
          "name": "stderr",
          "text": [
            "<ipython-input-64-2786594693>:8: DeprecationWarning: Conversion of an array with ndim > 0 to a scalar is deprecated, and will error in future. Ensure you extract a single element from your array before performing this operation. (Deprecated NumPy 1.25.)\n",
            "  return int(suma)\n"
          ]
        }
      ]
    },
    {
      "cell_type": "code",
      "source": [
        "print(sum(resultados)/trials)"
      ],
      "metadata": {
        "id": "7hgNw9D9XEVT",
        "outputId": "b234e508-ac6b-41c3-c499-fc8d7e9c14fd",
        "colab": {
          "base_uri": "https://localhost:8080/"
        }
      },
      "id": "7hgNw9D9XEVT",
      "execution_count": 78,
      "outputs": [
        {
          "output_type": "stream",
          "name": "stdout",
          "text": [
            "4.972\n"
          ]
        }
      ]
    },
    {
      "cell_type": "markdown",
      "id": "55732bca",
      "metadata": {
        "id": "55732bca"
      },
      "source": [
        "## Ejercicio 2\n",
        "\n",
        "Una caja contiene 10 bolas blancas, 20 bolas rojas y 30 bolas verdes. Si tomamos 5 bolas de la caja reemplazándolas (tomando una bola, anotando el color y luego regresandola a la caja). Queremos saber la probabilidad de:\n",
        "\n",
        "1. Tomar 3 blancas y 2 rojas.\n",
        "2. Toas todas del mismo color.\n",
        "\n",
        "Ejecuta el experimento 1000 veces y calcula las probabilidades que mencionadas."
      ]
    },
    {
      "cell_type": "code",
      "execution_count": 79,
      "id": "23244d20",
      "metadata": {
        "id": "23244d20",
        "outputId": "0138808c-019b-49ec-ca77-4a4d0bf09bc9",
        "colab": {
          "base_uri": "https://localhost:8080/"
        }
      },
      "outputs": [
        {
          "output_type": "stream",
          "name": "stdout",
          "text": [
            "{0: 'White', 1: 'White', 2: 'White', 3: 'White', 4: 'White', 5: 'White', 6: 'White', 7: 'White', 8: 'White', 9: 'White', 10: 'Red', 11: 'Red', 12: 'Red', 13: 'Red', 14: 'Red', 15: 'Red', 16: 'Red', 17: 'Red', 18: 'Red', 19: 'Red', 20: 'Red', 21: 'Red', 22: 'Red', 23: 'Red', 24: 'Red', 25: 'Red', 26: 'Red', 27: 'Red', 28: 'Red', 29: 'Red', 30: 'Green', 31: 'Green', 32: 'Green', 33: 'Green', 34: 'Green', 35: 'Green', 36: 'Green', 37: 'Green', 38: 'Green', 39: 'Green', 40: 'Green', 41: 'Green', 42: 'Green', 43: 'Green', 44: 'Green', 45: 'Green', 46: 'Green', 47: 'Green', 48: 'Green', 49: 'Green', 50: 'Green', 51: 'Green', 52: 'Green', 53: 'Green', 54: 'Green', 55: 'Green', 56: 'Green', 57: 'Green', 58: 'Green', 59: 'Green'}\n"
          ]
        }
      ],
      "source": [
        "ball_box = {}\n",
        "\n",
        "# Crea la cajas con las bolas\n",
        "for i in range(60):\n",
        "    if i < 10:\n",
        "        ball_box[i] = \"White\"\n",
        "    elif (i > 9) and (i < 30):\n",
        "        ball_box[i] = \"Red\"\n",
        "    else:\n",
        "        ball_box[i] = \"Green\"\n",
        "\n",
        "print(ball_box)\n",
        "\n",
        "# TODO"
      ]
    },
    {
      "cell_type": "code",
      "source": [
        "def tomar(numero):\n",
        "  return np.random.choice(list(ball_box.values()), numero)"
      ],
      "metadata": {
        "id": "xwrqJruHb6h2"
      },
      "id": "xwrqJruHb6h2",
      "execution_count": 81,
      "outputs": []
    },
    {
      "cell_type": "code",
      "source": [
        "probabilidad_1 = 0\n",
        "probabilidad_2 = 0\n",
        "\n",
        "trails = 1000\n",
        "\n",
        "for _ in range(trails):\n",
        "  bolas = tomar(5)\n",
        "\n",
        "  white = 0\n",
        "  red = 0\n",
        "  green = 0\n",
        "\n",
        "  for bola in bolas:\n",
        "    if bola == \"White\":\n",
        "      white += 1\n",
        "    elif bola == \"Red\":\n",
        "      red += 1\n",
        "    else:\n",
        "      green += 1\n",
        "\n",
        "  if (white == 3) and (red == 2):\n",
        "    probabilidad_1 += 1\n",
        "\n",
        "  if (white == 5) or (red == 5) or (green == 5):\n",
        "    probabilidad_2 += 1"
      ],
      "metadata": {
        "id": "qoR8z7KScaH1"
      },
      "id": "qoR8z7KScaH1",
      "execution_count": 84,
      "outputs": []
    },
    {
      "cell_type": "code",
      "source": [
        "probabilidad_1/trails"
      ],
      "metadata": {
        "id": "UhtrVZ0rdA5D",
        "outputId": "a33d853f-2aa0-4a14-865e-cdea9365c926",
        "colab": {
          "base_uri": "https://localhost:8080/"
        }
      },
      "id": "UhtrVZ0rdA5D",
      "execution_count": 85,
      "outputs": [
        {
          "output_type": "execute_result",
          "data": {
            "text/plain": [
              "0.009"
            ]
          },
          "metadata": {},
          "execution_count": 85
        }
      ]
    },
    {
      "cell_type": "code",
      "source": [
        "probabilidad_2/trails"
      ],
      "metadata": {
        "id": "B-Zqq1wydfP0",
        "outputId": "7587b6bb-1d07-4ca2-ea48-9cceb918fea6",
        "colab": {
          "base_uri": "https://localhost:8080/"
        }
      },
      "id": "B-Zqq1wydfP0",
      "execution_count": 86,
      "outputs": [
        {
          "output_type": "execute_result",
          "data": {
            "text/plain": [
              "0.045"
            ]
          },
          "metadata": {},
          "execution_count": 86
        }
      ]
    }
  ],
  "metadata": {
    "interpreter": {
      "hash": "9248718ffe6ce6938b217e69dbcc175ea21f4c6b28a317e96c05334edae734bb"
    },
    "kernelspec": {
      "display_name": "Python 3.9.12 ('ML-BOOTCAMP')",
      "language": "python",
      "name": "python3"
    },
    "language_info": {
      "codemirror_mode": {
        "name": "ipython",
        "version": 3
      },
      "file_extension": ".py",
      "mimetype": "text/x-python",
      "name": "python",
      "nbconvert_exporter": "python",
      "pygments_lexer": "ipython3",
      "version": "3.12.1"
    },
    "colab": {
      "provenance": []
    }
  },
  "nbformat": 4,
  "nbformat_minor": 5
}